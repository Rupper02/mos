{
  "cells": [
    {
      "cell_type": "markdown",
      "metadata": {
        "id": "view-in-github",
        "colab_type": "text"
      },
      "source": [
        "<a href=\"https://colab.research.google.com/github/Rupper02/mos/blob/main/quickstart.ipynb\" target=\"_parent\"><img src=\"https://colab.research.google.com/assets/colab-badge.svg\" alt=\"Open In Colab\"/></a>"
      ]
    },
    {
      "cell_type": "markdown",
      "metadata": {
        "id": "TYSP1vTbHBOF"
      },
      "source": [
        "# 🚀 Quick Introduction to MOS Prediction using UTMOSv2\n",
        "\n",
        "In this Jupyter notebook, we will introduce a method for predicting MOS (Mean Opinion Score) using UTMOSv2."
      ]
    },
    {
      "cell_type": "markdown",
      "metadata": {
        "id": "grY5mLi1HBOI"
      },
      "source": [
        "## 🛠 Installation"
      ]
    },
    {
      "cell_type": "code",
      "execution_count": 1,
      "metadata": {
        "vscode": {
          "languageId": "plaintext"
        },
        "colab": {
          "base_uri": "https://localhost:8080/"
        },
        "id": "ZFRJ43N-HBOJ",
        "outputId": "df348c7e-b4cc-4539-d86e-e17ece8740e8"
      },
      "outputs": [
        {
          "output_type": "stream",
          "name": "stdout",
          "text": [
            "Collecting git+https://github.com/sarulab-speech/UTMOSv2.git\n",
            "  Cloning https://github.com/sarulab-speech/UTMOSv2.git to /tmp/pip-req-build-h0b1m3vx\n",
            "  Running command git clone --filter=blob:none --quiet https://github.com/sarulab-speech/UTMOSv2.git /tmp/pip-req-build-h0b1m3vx\n",
            "  Resolved https://github.com/sarulab-speech/UTMOSv2.git to commit 16c55afcb1d25bef462dcf64c888e7eef8039918\n",
            "  Installing build dependencies ... \u001b[?25l\u001b[?25hdone\n",
            "  Getting requirements to build wheel ... \u001b[?25l\u001b[?25hdone\n",
            "  Preparing metadata (pyproject.toml) ... \u001b[?25l\u001b[?25hdone\n",
            "Requirement already satisfied: numpy>=1.24.4 in /usr/local/lib/python3.11/dist-packages (from utmosv2==1.1.0) (2.0.2)\n",
            "Requirement already satisfied: torch>=2.3.1 in /usr/local/lib/python3.11/dist-packages (from utmosv2==1.1.0) (2.6.0+cu124)\n",
            "Requirement already satisfied: timm>=1.0.7 in /usr/local/lib/python3.11/dist-packages (from utmosv2==1.1.0) (1.0.15)\n",
            "Requirement already satisfied: librosa>=0.10.2 in /usr/local/lib/python3.11/dist-packages (from utmosv2==1.1.0) (0.11.0)\n",
            "Requirement already satisfied: tqdm>=4.66.4 in /usr/local/lib/python3.11/dist-packages (from utmosv2==1.1.0) (4.67.1)\n",
            "Requirement already satisfied: transformers>=4.42.4 in /usr/local/lib/python3.11/dist-packages (from utmosv2==1.1.0) (4.49.0)\n",
            "Requirement already satisfied: typing-extensions in /usr/local/lib/python3.11/dist-packages (from utmosv2==1.1.0) (4.12.2)\n",
            "Requirement already satisfied: audioread>=2.1.9 in /usr/local/lib/python3.11/dist-packages (from librosa>=0.10.2->utmosv2==1.1.0) (3.0.1)\n",
            "Requirement already satisfied: numba>=0.51.0 in /usr/local/lib/python3.11/dist-packages (from librosa>=0.10.2->utmosv2==1.1.0) (0.60.0)\n",
            "Requirement already satisfied: scipy>=1.6.0 in /usr/local/lib/python3.11/dist-packages (from librosa>=0.10.2->utmosv2==1.1.0) (1.14.1)\n",
            "Requirement already satisfied: scikit-learn>=1.1.0 in /usr/local/lib/python3.11/dist-packages (from librosa>=0.10.2->utmosv2==1.1.0) (1.6.1)\n",
            "Requirement already satisfied: joblib>=1.0 in /usr/local/lib/python3.11/dist-packages (from librosa>=0.10.2->utmosv2==1.1.0) (1.4.2)\n",
            "Requirement already satisfied: decorator>=4.3.0 in /usr/local/lib/python3.11/dist-packages (from librosa>=0.10.2->utmosv2==1.1.0) (4.4.2)\n",
            "Requirement already satisfied: soundfile>=0.12.1 in /usr/local/lib/python3.11/dist-packages (from librosa>=0.10.2->utmosv2==1.1.0) (0.13.1)\n",
            "Requirement already satisfied: pooch>=1.1 in /usr/local/lib/python3.11/dist-packages (from librosa>=0.10.2->utmosv2==1.1.0) (1.8.2)\n",
            "Requirement already satisfied: soxr>=0.3.2 in /usr/local/lib/python3.11/dist-packages (from librosa>=0.10.2->utmosv2==1.1.0) (0.5.0.post1)\n",
            "Requirement already satisfied: lazy_loader>=0.1 in /usr/local/lib/python3.11/dist-packages (from librosa>=0.10.2->utmosv2==1.1.0) (0.4)\n",
            "Requirement already satisfied: msgpack>=1.0 in /usr/local/lib/python3.11/dist-packages (from librosa>=0.10.2->utmosv2==1.1.0) (1.1.0)\n",
            "Requirement already satisfied: torchvision in /usr/local/lib/python3.11/dist-packages (from timm>=1.0.7->utmosv2==1.1.0) (0.21.0+cu124)\n",
            "Requirement already satisfied: pyyaml in /usr/local/lib/python3.11/dist-packages (from timm>=1.0.7->utmosv2==1.1.0) (6.0.2)\n",
            "Requirement already satisfied: huggingface_hub in /usr/local/lib/python3.11/dist-packages (from timm>=1.0.7->utmosv2==1.1.0) (0.29.3)\n",
            "Requirement already satisfied: safetensors in /usr/local/lib/python3.11/dist-packages (from timm>=1.0.7->utmosv2==1.1.0) (0.5.3)\n",
            "Requirement already satisfied: filelock in /usr/local/lib/python3.11/dist-packages (from torch>=2.3.1->utmosv2==1.1.0) (3.18.0)\n",
            "Requirement already satisfied: networkx in /usr/local/lib/python3.11/dist-packages (from torch>=2.3.1->utmosv2==1.1.0) (3.4.2)\n",
            "Requirement already satisfied: jinja2 in /usr/local/lib/python3.11/dist-packages (from torch>=2.3.1->utmosv2==1.1.0) (3.1.6)\n",
            "Requirement already satisfied: fsspec in /usr/local/lib/python3.11/dist-packages (from torch>=2.3.1->utmosv2==1.1.0) (2025.3.0)\n",
            "Collecting nvidia-cuda-nvrtc-cu12==12.4.127 (from torch>=2.3.1->utmosv2==1.1.0)\n",
            "  Downloading nvidia_cuda_nvrtc_cu12-12.4.127-py3-none-manylinux2014_x86_64.whl.metadata (1.5 kB)\n",
            "Collecting nvidia-cuda-runtime-cu12==12.4.127 (from torch>=2.3.1->utmosv2==1.1.0)\n",
            "  Downloading nvidia_cuda_runtime_cu12-12.4.127-py3-none-manylinux2014_x86_64.whl.metadata (1.5 kB)\n",
            "Collecting nvidia-cuda-cupti-cu12==12.4.127 (from torch>=2.3.1->utmosv2==1.1.0)\n",
            "  Downloading nvidia_cuda_cupti_cu12-12.4.127-py3-none-manylinux2014_x86_64.whl.metadata (1.6 kB)\n",
            "Collecting nvidia-cudnn-cu12==9.1.0.70 (from torch>=2.3.1->utmosv2==1.1.0)\n",
            "  Downloading nvidia_cudnn_cu12-9.1.0.70-py3-none-manylinux2014_x86_64.whl.metadata (1.6 kB)\n",
            "Collecting nvidia-cublas-cu12==12.4.5.8 (from torch>=2.3.1->utmosv2==1.1.0)\n",
            "  Downloading nvidia_cublas_cu12-12.4.5.8-py3-none-manylinux2014_x86_64.whl.metadata (1.5 kB)\n",
            "Collecting nvidia-cufft-cu12==11.2.1.3 (from torch>=2.3.1->utmosv2==1.1.0)\n",
            "  Downloading nvidia_cufft_cu12-11.2.1.3-py3-none-manylinux2014_x86_64.whl.metadata (1.5 kB)\n",
            "Collecting nvidia-curand-cu12==10.3.5.147 (from torch>=2.3.1->utmosv2==1.1.0)\n",
            "  Downloading nvidia_curand_cu12-10.3.5.147-py3-none-manylinux2014_x86_64.whl.metadata (1.5 kB)\n",
            "Collecting nvidia-cusolver-cu12==11.6.1.9 (from torch>=2.3.1->utmosv2==1.1.0)\n",
            "  Downloading nvidia_cusolver_cu12-11.6.1.9-py3-none-manylinux2014_x86_64.whl.metadata (1.6 kB)\n",
            "Collecting nvidia-cusparse-cu12==12.3.1.170 (from torch>=2.3.1->utmosv2==1.1.0)\n",
            "  Downloading nvidia_cusparse_cu12-12.3.1.170-py3-none-manylinux2014_x86_64.whl.metadata (1.6 kB)\n",
            "Requirement already satisfied: nvidia-cusparselt-cu12==0.6.2 in /usr/local/lib/python3.11/dist-packages (from torch>=2.3.1->utmosv2==1.1.0) (0.6.2)\n",
            "Requirement already satisfied: nvidia-nccl-cu12==2.21.5 in /usr/local/lib/python3.11/dist-packages (from torch>=2.3.1->utmosv2==1.1.0) (2.21.5)\n",
            "Requirement already satisfied: nvidia-nvtx-cu12==12.4.127 in /usr/local/lib/python3.11/dist-packages (from torch>=2.3.1->utmosv2==1.1.0) (12.4.127)\n",
            "Collecting nvidia-nvjitlink-cu12==12.4.127 (from torch>=2.3.1->utmosv2==1.1.0)\n",
            "  Downloading nvidia_nvjitlink_cu12-12.4.127-py3-none-manylinux2014_x86_64.whl.metadata (1.5 kB)\n",
            "Requirement already satisfied: triton==3.2.0 in /usr/local/lib/python3.11/dist-packages (from torch>=2.3.1->utmosv2==1.1.0) (3.2.0)\n",
            "Requirement already satisfied: sympy==1.13.1 in /usr/local/lib/python3.11/dist-packages (from torch>=2.3.1->utmosv2==1.1.0) (1.13.1)\n",
            "Requirement already satisfied: mpmath<1.4,>=1.1.0 in /usr/local/lib/python3.11/dist-packages (from sympy==1.13.1->torch>=2.3.1->utmosv2==1.1.0) (1.3.0)\n",
            "Requirement already satisfied: packaging>=20.0 in /usr/local/lib/python3.11/dist-packages (from transformers>=4.42.4->utmosv2==1.1.0) (24.2)\n",
            "Requirement already satisfied: regex!=2019.12.17 in /usr/local/lib/python3.11/dist-packages (from transformers>=4.42.4->utmosv2==1.1.0) (2024.11.6)\n",
            "Requirement already satisfied: requests in /usr/local/lib/python3.11/dist-packages (from transformers>=4.42.4->utmosv2==1.1.0) (2.32.3)\n",
            "Requirement already satisfied: tokenizers<0.22,>=0.21 in /usr/local/lib/python3.11/dist-packages (from transformers>=4.42.4->utmosv2==1.1.0) (0.21.1)\n",
            "Requirement already satisfied: llvmlite<0.44,>=0.43.0dev0 in /usr/local/lib/python3.11/dist-packages (from numba>=0.51.0->librosa>=0.10.2->utmosv2==1.1.0) (0.43.0)\n",
            "Requirement already satisfied: platformdirs>=2.5.0 in /usr/local/lib/python3.11/dist-packages (from pooch>=1.1->librosa>=0.10.2->utmosv2==1.1.0) (4.3.6)\n",
            "Requirement already satisfied: charset-normalizer<4,>=2 in /usr/local/lib/python3.11/dist-packages (from requests->transformers>=4.42.4->utmosv2==1.1.0) (3.4.1)\n",
            "Requirement already satisfied: idna<4,>=2.5 in /usr/local/lib/python3.11/dist-packages (from requests->transformers>=4.42.4->utmosv2==1.1.0) (3.10)\n",
            "Requirement already satisfied: urllib3<3,>=1.21.1 in /usr/local/lib/python3.11/dist-packages (from requests->transformers>=4.42.4->utmosv2==1.1.0) (2.3.0)\n",
            "Requirement already satisfied: certifi>=2017.4.17 in /usr/local/lib/python3.11/dist-packages (from requests->transformers>=4.42.4->utmosv2==1.1.0) (2025.1.31)\n",
            "Requirement already satisfied: threadpoolctl>=3.1.0 in /usr/local/lib/python3.11/dist-packages (from scikit-learn>=1.1.0->librosa>=0.10.2->utmosv2==1.1.0) (3.6.0)\n",
            "Requirement already satisfied: cffi>=1.0 in /usr/local/lib/python3.11/dist-packages (from soundfile>=0.12.1->librosa>=0.10.2->utmosv2==1.1.0) (1.17.1)\n",
            "Requirement already satisfied: MarkupSafe>=2.0 in /usr/local/lib/python3.11/dist-packages (from jinja2->torch>=2.3.1->utmosv2==1.1.0) (3.0.2)\n",
            "Requirement already satisfied: pillow!=8.3.*,>=5.3.0 in /usr/local/lib/python3.11/dist-packages (from torchvision->timm>=1.0.7->utmosv2==1.1.0) (11.1.0)\n",
            "Requirement already satisfied: pycparser in /usr/local/lib/python3.11/dist-packages (from cffi>=1.0->soundfile>=0.12.1->librosa>=0.10.2->utmosv2==1.1.0) (2.22)\n",
            "Downloading nvidia_cublas_cu12-12.4.5.8-py3-none-manylinux2014_x86_64.whl (363.4 MB)\n",
            "\u001b[2K   \u001b[90m━━━━━━━━━━━━━━━━━━━━━━━━━━━━━━━━━━━━━━━━\u001b[0m \u001b[32m363.4/363.4 MB\u001b[0m \u001b[31m4.0 MB/s\u001b[0m eta \u001b[36m0:00:00\u001b[0m\n",
            "\u001b[?25hDownloading nvidia_cuda_cupti_cu12-12.4.127-py3-none-manylinux2014_x86_64.whl (13.8 MB)\n",
            "\u001b[2K   \u001b[90m━━━━━━━━━━━━━━━━━━━━━━━━━━━━━━━━━━━━━━━━\u001b[0m \u001b[32m13.8/13.8 MB\u001b[0m \u001b[31m75.6 MB/s\u001b[0m eta \u001b[36m0:00:00\u001b[0m\n",
            "\u001b[?25hDownloading nvidia_cuda_nvrtc_cu12-12.4.127-py3-none-manylinux2014_x86_64.whl (24.6 MB)\n",
            "\u001b[2K   \u001b[90m━━━━━━━━━━━━━━━━━━━━━━━━━━━━━━━━━━━━━━━━\u001b[0m \u001b[32m24.6/24.6 MB\u001b[0m \u001b[31m63.9 MB/s\u001b[0m eta \u001b[36m0:00:00\u001b[0m\n",
            "\u001b[?25hDownloading nvidia_cuda_runtime_cu12-12.4.127-py3-none-manylinux2014_x86_64.whl (883 kB)\n",
            "\u001b[2K   \u001b[90m━━━━━━━━━━━━━━━━━━━━━━━━━━━━━━━━━━━━━━━━\u001b[0m \u001b[32m883.7/883.7 kB\u001b[0m \u001b[31m51.9 MB/s\u001b[0m eta \u001b[36m0:00:00\u001b[0m\n",
            "\u001b[?25hDownloading nvidia_cudnn_cu12-9.1.0.70-py3-none-manylinux2014_x86_64.whl (664.8 MB)\n",
            "\u001b[2K   \u001b[90m━━━━━━━━━━━━━━━━━━━━━━━━━━━━━━━━━━━━━━━━\u001b[0m \u001b[32m664.8/664.8 MB\u001b[0m \u001b[31m2.9 MB/s\u001b[0m eta \u001b[36m0:00:00\u001b[0m\n",
            "\u001b[?25hDownloading nvidia_cufft_cu12-11.2.1.3-py3-none-manylinux2014_x86_64.whl (211.5 MB)\n",
            "\u001b[2K   \u001b[90m━━━━━━━━━━━━━━━━━━━━━━━━━━━━━━━━━━━━━━━━\u001b[0m \u001b[32m211.5/211.5 MB\u001b[0m \u001b[31m5.3 MB/s\u001b[0m eta \u001b[36m0:00:00\u001b[0m\n",
            "\u001b[?25hDownloading nvidia_curand_cu12-10.3.5.147-py3-none-manylinux2014_x86_64.whl (56.3 MB)\n",
            "\u001b[2K   \u001b[90m━━━━━━━━━━━━━━━━━━━━━━━━━━━━━━━━━━━━━━━━\u001b[0m \u001b[32m56.3/56.3 MB\u001b[0m \u001b[31m14.0 MB/s\u001b[0m eta \u001b[36m0:00:00\u001b[0m\n",
            "\u001b[?25hDownloading nvidia_cusolver_cu12-11.6.1.9-py3-none-manylinux2014_x86_64.whl (127.9 MB)\n",
            "\u001b[2K   \u001b[90m━━━━━━━━━━━━━━━━━━━━━━━━━━━━━━━━━━━━━━━━\u001b[0m \u001b[32m127.9/127.9 MB\u001b[0m \u001b[31m7.2 MB/s\u001b[0m eta \u001b[36m0:00:00\u001b[0m\n",
            "\u001b[?25hDownloading nvidia_cusparse_cu12-12.3.1.170-py3-none-manylinux2014_x86_64.whl (207.5 MB)\n",
            "\u001b[2K   \u001b[90m━━━━━━━━━━━━━━━━━━━━━━━━━━━━━━━━━━━━━━━━\u001b[0m \u001b[32m207.5/207.5 MB\u001b[0m \u001b[31m5.9 MB/s\u001b[0m eta \u001b[36m0:00:00\u001b[0m\n",
            "\u001b[?25hDownloading nvidia_nvjitlink_cu12-12.4.127-py3-none-manylinux2014_x86_64.whl (21.1 MB)\n",
            "\u001b[2K   \u001b[90m━━━━━━━━━━━━━━━━━━━━━━━━━━━━━━━━━━━━━━━━\u001b[0m \u001b[32m21.1/21.1 MB\u001b[0m \u001b[31m85.7 MB/s\u001b[0m eta \u001b[36m0:00:00\u001b[0m\n",
            "\u001b[?25hBuilding wheels for collected packages: utmosv2\n",
            "  Building wheel for utmosv2 (pyproject.toml) ... \u001b[?25l\u001b[?25hdone\n",
            "  Created wheel for utmosv2: filename=utmosv2-1.1.0-py3-none-any.whl size=76911 sha256=f20da0cf86745402e0fa3245a449416ecf19e39321809c73472cab3030ad84a0\n",
            "  Stored in directory: /tmp/pip-ephem-wheel-cache-l4eyswua/wheels/31/42/bb/d4b1cac5f47e5017f92b068612a9ffff344611d02f839cf30b\n",
            "Successfully built utmosv2\n",
            "Installing collected packages: nvidia-nvjitlink-cu12, nvidia-curand-cu12, nvidia-cufft-cu12, nvidia-cuda-runtime-cu12, nvidia-cuda-nvrtc-cu12, nvidia-cuda-cupti-cu12, nvidia-cublas-cu12, nvidia-cusparse-cu12, nvidia-cudnn-cu12, nvidia-cusolver-cu12, utmosv2\n",
            "  Attempting uninstall: nvidia-nvjitlink-cu12\n",
            "    Found existing installation: nvidia-nvjitlink-cu12 12.5.82\n",
            "    Uninstalling nvidia-nvjitlink-cu12-12.5.82:\n",
            "      Successfully uninstalled nvidia-nvjitlink-cu12-12.5.82\n",
            "  Attempting uninstall: nvidia-curand-cu12\n",
            "    Found existing installation: nvidia-curand-cu12 10.3.6.82\n",
            "    Uninstalling nvidia-curand-cu12-10.3.6.82:\n",
            "      Successfully uninstalled nvidia-curand-cu12-10.3.6.82\n",
            "  Attempting uninstall: nvidia-cufft-cu12\n",
            "    Found existing installation: nvidia-cufft-cu12 11.2.3.61\n",
            "    Uninstalling nvidia-cufft-cu12-11.2.3.61:\n",
            "      Successfully uninstalled nvidia-cufft-cu12-11.2.3.61\n",
            "  Attempting uninstall: nvidia-cuda-runtime-cu12\n",
            "    Found existing installation: nvidia-cuda-runtime-cu12 12.5.82\n",
            "    Uninstalling nvidia-cuda-runtime-cu12-12.5.82:\n",
            "      Successfully uninstalled nvidia-cuda-runtime-cu12-12.5.82\n",
            "  Attempting uninstall: nvidia-cuda-nvrtc-cu12\n",
            "    Found existing installation: nvidia-cuda-nvrtc-cu12 12.5.82\n",
            "    Uninstalling nvidia-cuda-nvrtc-cu12-12.5.82:\n",
            "      Successfully uninstalled nvidia-cuda-nvrtc-cu12-12.5.82\n",
            "  Attempting uninstall: nvidia-cuda-cupti-cu12\n",
            "    Found existing installation: nvidia-cuda-cupti-cu12 12.5.82\n",
            "    Uninstalling nvidia-cuda-cupti-cu12-12.5.82:\n",
            "      Successfully uninstalled nvidia-cuda-cupti-cu12-12.5.82\n",
            "  Attempting uninstall: nvidia-cublas-cu12\n",
            "    Found existing installation: nvidia-cublas-cu12 12.5.3.2\n",
            "    Uninstalling nvidia-cublas-cu12-12.5.3.2:\n",
            "      Successfully uninstalled nvidia-cublas-cu12-12.5.3.2\n",
            "  Attempting uninstall: nvidia-cusparse-cu12\n",
            "    Found existing installation: nvidia-cusparse-cu12 12.5.1.3\n",
            "    Uninstalling nvidia-cusparse-cu12-12.5.1.3:\n",
            "      Successfully uninstalled nvidia-cusparse-cu12-12.5.1.3\n",
            "  Attempting uninstall: nvidia-cudnn-cu12\n",
            "    Found existing installation: nvidia-cudnn-cu12 9.3.0.75\n",
            "    Uninstalling nvidia-cudnn-cu12-9.3.0.75:\n",
            "      Successfully uninstalled nvidia-cudnn-cu12-9.3.0.75\n",
            "  Attempting uninstall: nvidia-cusolver-cu12\n",
            "    Found existing installation: nvidia-cusolver-cu12 11.6.3.83\n",
            "    Uninstalling nvidia-cusolver-cu12-11.6.3.83:\n",
            "      Successfully uninstalled nvidia-cusolver-cu12-11.6.3.83\n",
            "Successfully installed nvidia-cublas-cu12-12.4.5.8 nvidia-cuda-cupti-cu12-12.4.127 nvidia-cuda-nvrtc-cu12-12.4.127 nvidia-cuda-runtime-cu12-12.4.127 nvidia-cudnn-cu12-9.1.0.70 nvidia-cufft-cu12-11.2.1.3 nvidia-curand-cu12-10.3.5.147 nvidia-cusolver-cu12-11.6.1.9 nvidia-cusparse-cu12-12.3.1.170 nvidia-nvjitlink-cu12-12.4.127 utmosv2-1.1.0\n"
          ]
        }
      ],
      "source": [
        "!GIT_LFS_SKIP_SMUDGE=1 pip install git+https://github.com/sarulab-speech/UTMOSv2.git"
      ]
    },
    {
      "cell_type": "code",
      "execution_count": 13,
      "metadata": {
        "vscode": {
          "languageId": "plaintext"
        },
        "id": "Xg1U3OzJHBOK"
      },
      "outputs": [],
      "source": [
        "import utmosv2\n",
        "from collections import defaultdict\n"
      ]
    },
    {
      "cell_type": "markdown",
      "metadata": {
        "id": "EacI7TFBHBOL"
      },
      "source": [
        "## 🔮 Make predictions"
      ]
    },
    {
      "cell_type": "markdown",
      "metadata": {
        "id": "K_D2fOChHBOL"
      },
      "source": [
        "To predict the MOS of a single wav file:"
      ]
    },
    {
      "cell_type": "code",
      "execution_count": 10,
      "metadata": {
        "vscode": {
          "languageId": "plaintext"
        },
        "colab": {
          "base_uri": "https://localhost:8080/"
        },
        "id": "E0DzreW_HBOL",
        "outputId": "61d7dab3-5d39-4575-c6ec-f535c8208dae"
      },
      "outputs": [
        {
          "output_type": "stream",
          "name": "stdout",
          "text": [
            "Loaded checkpoint from /root/.cache/utmosv2/models/fusion_stage3/fold0_s42_best_model.pth\n"
          ]
        },
        {
          "output_type": "stream",
          "name": "stderr",
          "text": [
            "Predicting: 100%|██████████| 1/1 [00:03<00:00,  3.68s/it]"
          ]
        },
        {
          "output_type": "stream",
          "name": "stdout",
          "text": [
            "2.978515625\n"
          ]
        },
        {
          "output_type": "stream",
          "name": "stderr",
          "text": [
            "\n"
          ]
        }
      ],
      "source": [
        "model = utmosv2.create_model(pretrained=True)\n",
        "mos = model.predict(input_path=\"./eleven.wav\")\n",
        "print(mos)"
      ]
    },
    {
      "cell_type": "markdown",
      "metadata": {
        "id": "HeQ3U0aIHBOM"
      },
      "source": [
        "To predict the MOS of all .wav files in a folder:"
      ]
    },
    {
      "cell_type": "code",
      "execution_count": 17,
      "metadata": {
        "vscode": {
          "languageId": "plaintext"
        },
        "colab": {
          "base_uri": "https://localhost:8080/"
        },
        "id": "yBglDeYGHBOM",
        "outputId": "46ce0d11-0453-43fc-dd14-43fa498eeed5"
      },
      "outputs": [
        {
          "output_type": "stream",
          "name": "stdout",
          "text": [
            "Loaded checkpoint from /root/.cache/utmosv2/models/fusion_stage3/fold0_s42_best_model.pth\n"
          ]
        },
        {
          "output_type": "stream",
          "name": "stderr",
          "text": [
            "Predicting: 100%|██████████| 1/1 [00:08<00:00,  8.34s/it]\n",
            "Predicting: 100%|██████████| 1/1 [00:06<00:00,  6.99s/it]\n",
            "Predicting: 100%|██████████| 1/1 [00:08<00:00,  8.57s/it]\n",
            "Predicting: 100%|██████████| 1/1 [00:06<00:00,  6.80s/it]\n",
            "Predicting: 100%|██████████| 1/1 [00:07<00:00,  7.93s/it]\n",
            "Predicting: 100%|██████████| 1/1 [00:08<00:00,  8.13s/it]\n",
            "Predicting: 100%|██████████| 1/1 [00:06<00:00,  6.83s/it]\n",
            "Predicting: 100%|██████████| 1/1 [00:08<00:00,  8.33s/it]\n",
            "Predicting: 100%|██████████| 1/1 [00:07<00:00,  7.09s/it]\n",
            "Predicting: 100%|██████████| 1/1 [00:07<00:00,  7.75s/it]\n",
            "Predicting: 100%|██████████| 1/1 [00:08<00:00,  8.06s/it]\n",
            "Predicting: 100%|██████████| 1/1 [00:06<00:00,  6.89s/it]\n",
            "Predicting: 100%|██████████| 1/1 [00:08<00:00,  8.65s/it]\n",
            "Predicting: 100%|██████████| 1/1 [00:06<00:00,  6.86s/it]\n",
            "Predicting: 100%|██████████| 1/1 [00:07<00:00,  7.86s/it]\n",
            "Predicting: 100%|██████████| 1/1 [00:08<00:00,  8.10s/it]\n",
            "Predicting: 100%|██████████| 1/1 [00:07<00:00,  7.09s/it]\n",
            "Predicting: 100%|██████████| 1/1 [00:08<00:00,  8.25s/it]\n",
            "Predicting: 100%|██████████| 1/1 [00:06<00:00,  6.86s/it]\n",
            "Predicting: 100%|██████████| 1/1 [00:07<00:00,  7.79s/it]\n",
            "Predicting: 100%|██████████| 1/1 [00:08<00:00,  8.56s/it]\n",
            "Predicting: 100%|██████████| 1/1 [00:06<00:00,  6.95s/it]\n",
            "Predicting: 100%|██████████| 1/1 [00:08<00:00,  8.35s/it]\n",
            "Predicting: 100%|██████████| 1/1 [00:06<00:00,  6.83s/it]\n",
            "Predicting: 100%|██████████| 1/1 [00:07<00:00,  7.72s/it]\n",
            "Predicting: 100%|██████████| 1/1 [00:08<00:00,  8.31s/it]\n",
            "Predicting: 100%|██████████| 1/1 [00:06<00:00,  6.85s/it]\n",
            "Predicting: 100%|██████████| 1/1 [00:08<00:00,  8.42s/it]\n",
            "Predicting: 100%|██████████| 1/1 [00:06<00:00,  6.94s/it]\n",
            "Predicting: 100%|██████████| 1/1 [00:07<00:00,  7.63s/it]\n",
            "Predicting: 100%|██████████| 1/1 [00:08<00:00,  8.32s/it]\n",
            "Predicting: 100%|██████████| 1/1 [00:06<00:00,  6.88s/it]\n",
            "Predicting: 100%|██████████| 1/1 [00:08<00:00,  8.55s/it]\n",
            "Predicting: 100%|██████████| 1/1 [00:06<00:00,  6.86s/it]\n",
            "Predicting: 100%|██████████| 1/1 [00:07<00:00,  7.48s/it]\n",
            "Predicting: 100%|██████████| 1/1 [00:08<00:00,  8.35s/it]\n",
            "Predicting: 100%|██████████| 1/1 [00:07<00:00,  7.02s/it]\n",
            "Predicting: 100%|██████████| 1/1 [00:08<00:00,  8.34s/it]\n",
            "Predicting: 100%|██████████| 1/1 [00:06<00:00,  6.87s/it]\n",
            "Predicting: 100%|██████████| 1/1 [00:07<00:00,  7.36s/it]\n",
            "Predicting: 100%|██████████| 1/1 [00:08<00:00,  8.57s/it]\n",
            "Predicting: 100%|██████████| 1/1 [00:06<00:00,  6.92s/it]\n",
            "Predicting: 100%|██████████| 1/1 [00:08<00:00,  8.25s/it]\n",
            "Predicting: 100%|██████████| 1/1 [00:06<00:00,  6.94s/it]\n",
            "Predicting: 100%|██████████| 1/1 [00:07<00:00,  7.46s/it]\n",
            "Predicting: 100%|██████████| 1/1 [00:08<00:00,  8.24s/it]\n",
            "Predicting: 100%|██████████| 1/1 [00:06<00:00,  6.73s/it]\n",
            "Predicting: 100%|██████████| 1/1 [00:08<00:00,  8.27s/it]\n",
            "Predicting: 100%|██████████| 1/1 [00:07<00:00,  7.10s/it]\n",
            "Predicting: 100%|██████████| 1/1 [00:07<00:00,  7.43s/it]"
          ]
        },
        {
          "output_type": "stream",
          "name": "stdout",
          "text": [
            "Average MOS after 50 runs:\n",
            "audio.wav: 3.3042\n",
            "edgen.wav: 2.8942\n",
            "eleven.wav: 2.9812\n",
            "openai.wav: 3.4178\n"
          ]
        },
        {
          "output_type": "stream",
          "name": "stderr",
          "text": [
            "\n"
          ]
        }
      ],
      "source": [
        "n_runs = 50\n",
        "input_dir = \"./\"\n",
        "\n",
        "# Create model once outside the loop\n",
        "model = utmosv2.create_model(pretrained=True)\n",
        "\n",
        "# Dictionary to store lists of predicted MOS for each file\n",
        "mos_results = defaultdict(list)\n",
        "\n",
        "for i in range(n_runs):\n",
        "    mos = model.predict(input_dir=input_dir)\n",
        "    for result in mos:\n",
        "        mos_results[result['file_path']].append(result['predicted_mos'])\n",
        "\n",
        "# Calculate and print average MOS per file\n",
        "print(\"Average MOS after {} runs:\".format(n_runs))\n",
        "for file_path, scores in mos_results.items():\n",
        "    avg_mos = sum(scores) / len(scores)\n",
        "    print(f\"{file_path}: {avg_mos:.4f}\")"
      ]
    },
    {
      "cell_type": "markdown",
      "metadata": {
        "id": "GnX_sw_4HBOM"
      },
      "source": [
        "Note that either `input_path` or `input_dir` must be specified, but not both."
      ]
    },
    {
      "cell_type": "markdown",
      "metadata": {
        "id": "DIbz4a_4HBOM"
      },
      "source": [
        "For more details on how to use the inference script, please refer to [inference guide](https://github.com/sarulab-speech/UTMOSv2/blob/main/docs/inference.md)."
      ]
    }
  ],
  "metadata": {
    "language_info": {
      "name": "python"
    },
    "colab": {
      "provenance": [],
      "gpuType": "T4",
      "include_colab_link": true
    },
    "kernelspec": {
      "name": "python3",
      "display_name": "Python 3"
    },
    "accelerator": "GPU"
  },
  "nbformat": 4,
  "nbformat_minor": 0
}